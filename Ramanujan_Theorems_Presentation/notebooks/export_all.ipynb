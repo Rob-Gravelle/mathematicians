{
 "cells": [
  {
   "cell_type": "markdown",
   "metadata": {},
   "source": [
    "# export all\n",
    "### Description\n",
    "PDF export and merger script for final presentation\n",
    "\n",
    "**Objective:** Explain and visualize this theorem using code and plots."
   ]
  },
  {
   "cell_type": "code",
   "execution_count": null,
   "metadata": {},
   "outputs": [],
   "source": [
    "# Your Python imports here\n",
    "import numpy as np\n",
    "import matplotlib.pyplot as plt\n",
    "from math import factorial, pi, exp, sqrt"
   ]
  },
  {
   "cell_type": "code",
   "execution_count": null,
   "metadata": {},
   "outputs": [],
   "source": [
    "# %% [markdown]\n",
    "# # Export and Merge All Ramanujan Theorem Notebooks\n",
    "# This notebook converts each theorem notebook to a PDF and merges them\n",
    "# into one complete presentation.\n",
    "\n",
    "# %%\n",
    "import os\n",
    "from glob import glob\n",
    "from PyPDF2 import PdfMerger\n",
    "\n",
    "# Change working directory to this notebook's folder\n",
    "os.chdir(os.path.dirname(os.path.abspath(__file__)))\n",
    "\n",
    "# %%\n",
    "# Convert all notebooks (except this one) to PDF\n",
    "notebooks = sorted([nb for nb in glob(\"*.ipynb\") if nb != \"export_all.ipynb\"])\n",
    "\n",
    "for nb in notebooks:\n",
    "    print(f\"📘 Converting {nb} to PDF...\")\n",
    "    os.system(f'jupyter nbconvert --to pdf \"{nb}\" --quiet')\n",
    "\n",
    "print(\"✅ PDF conversion complete.\\n\")\n",
    "\n",
    "# %%\n",
    "# Merge all generated PDFs into one file\n",
    "pdf_files = [nb.replace(\".ipynb\", \".pdf\") for nb in notebooks]\n",
    "output_pdf = \"../Ramanujan_Theorems_Presentation.pdf\"\n",
    "\n",
    "print(\"🔗 Merging PDFs...\")\n",
    "merger = PdfMerger()\n",
    "for pdf in pdf_files:\n",
    "    merger.append(pdf)\n",
    "\n",
    "merger.write(output_pdf)\n",
    "merger.close()\n",
    "\n",
    "print(f\"✅ Combined presentation saved as {output_pdf}\")\n"
   ]
  }
 ],
 "metadata": {
  "kernelspec": {
   "display_name": "Python 3 (ipykernel)",
   "language": "python",
   "name": "python3"
  },
  "language_info": {
   "codemirror_mode": {
    "name": "ipython",
    "version": 3
   },
   "file_extension": ".py",
   "mimetype": "text/x-python",
   "name": "python",
   "nbconvert_exporter": "python",
   "pygments_lexer": "ipython3",
   "version": "3.11.13"
  }
 },
 "nbformat": 4,
 "nbformat_minor": 4
}
